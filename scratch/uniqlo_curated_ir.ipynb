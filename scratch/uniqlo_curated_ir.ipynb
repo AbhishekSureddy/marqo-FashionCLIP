{
 "cells": [
  {
   "cell_type": "code",
   "execution_count": 1,
   "metadata": {},
   "outputs": [],
   "source": [
    "import pandas as pd\n",
    "from datasets import Dataset, Features, Value, Image\n",
    "import requests\n",
    "from PIL import Image\n",
    "import io"
   ]
  },
  {
   "cell_type": "code",
   "execution_count": 9,
   "metadata": {},
   "outputs": [],
   "source": [
    "df = pd.read_csv(\"/home/jupyter/repos/marqo-FashionCLIP/curated_datasets/uniqlo_curated/uniqlo_image_ret_raw.csv\")\n",
    "subs = [\"item_id\",\"item_url\",\"item_type\",\"item_name\",\"materials\",\"img_url\"]\n",
    "cols = [\"metrics\"]+[f\"input_{x}\" for x in subs]+[f\"result_{i}_{x}\" for i in range(1,25) for x in subs]\n",
    "df.columns = cols"
   ]
  },
  {
   "cell_type": "code",
   "execution_count": 101,
   "metadata": {},
   "outputs": [
    {
     "name": "stdout",
     "output_type": "stream",
     "text": [
      "https://image.uniqlo.com/UQ/ST3/WesternCommon/imagesgoods/469870/sub/goods_469870_sub14_3x4.jpg?width=400\n",
      "https://image.uniqlo.com/UQ/ST3/WesternCommon/imagesgoods/469862/sub/goods_469862_sub14_3x4.jpg?width=400\n",
      "https://image.uniqlo.com/UQ/ST3/us/imagesgoods/442063/item/usgoods_32_442063_3x4.jpg?width=400\n",
      "https://image.uniqlo.com/UQ/ST3/WesternCommon/imagesgoods/469907/sub/goods_469907_sub14_3x4.jpg?width=400\n",
      "https://image.uniqlo.com/UQ/ST3/WesternCommon/imagesgoods/469863/sub/goods_469863_sub14_3x4.jpg?width=400\n",
      "https://image.uniqlo.com/UQ/ST3/WesternCommon/imagesgoods/471164/sub/goods_471164_sub17_3x4.jpg?width=400\n",
      "https://image.uniqlo.com/UQ/ST3/us/imagesgoods/461002/sub/usgoods_461002_sub14_3x4.jpg?width=400\n",
      "https://image.uniqlo.com/UQ/ST3/us/imagesgoods/469830/sub/usgoods_469830_sub7_3x4.jpg?width=400\n",
      "https://image.uniqlo.com/UQ/ST3/us/imagesgoods/460318/sub/usgoods_460318_sub14_3x4.jpg?width=600\n",
      "https://image.uniqlo.com/UQ/ST3/us/imagesgoods/465197/item/usgoods_30_465197_3x4.jpg?width=400\n",
      "https://image.uniqlo.com/UQ/ST3/WesternCommon/imagesgoods/475462/sub/goods_475462_sub14_3x4.jpg?width=400\n",
      "https://image.uniqlo.com/UQ/ST3/us/imagesgoods/470144/item/usgoods_69_470144_3x4.jpg?width=400\n",
      "https://image.uniqlo.com/UQ/ST3/us/imagesgoods/449860/item/usgoods_69_449860_3x4.jpg?width=400\n",
      "https://image.uniqlo.com/UQ/ST3/us/imagesgoods/465193/sub/usgoods_465193_sub3_3x4.jpg?width=400\n",
      "https://image.uniqlo.com/UQ/ST3/WesternCommon/imagesgoods/463247/item/goods_69_463247_3x4.jpg?width=400\n",
      "https://image.uniqlo.com/UQ/ST3/WesternCommon/imagesgoods/459621/item/goods_69_459621_3x4.jpg?width=400\n",
      "https://image.uniqlo.com/UQ/ST3/us/imagesgoods/450536/item/usgoods_69_450536_3x4.jpg?width=400\n",
      "https://image.uniqlo.com/UQ/ST3/us/imagesgoods/475462/item/usgoods_68_475462_3x4.jpg?width=400\n",
      "https://image.uniqlo.com/UQ/ST3/WesternCommon/imagesgoods/469483/sub/goods_469483_sub11_3x4.jpg?width=400\n",
      "https://image.uniqlo.com/UQ/ST3/WesternCommon/imagesgoods/457517/item/goods_69_457517_3x4.jpg?width=400\n",
      "https://image.uniqlo.com/UQ/ST3/WesternCommon/imagesgoods/465196/sub/goods_465196_sub14_3x4.jpg?width=400\n",
      "https://image.uniqlo.com/UQ/ST3/us/imagesgoods/460939/sub/usgoods_460939_sub7_3x4.jpg?width=400\n",
      "https://image.uniqlo.com/UQ/ST3/WesternCommon/imagesgoods/469830/sub/goods_469830_sub14_3x4.jpg?width=400\n",
      "https://image.uniqlo.com/UQ/ST3/us/imagesgoods/469901/item/usgoods_56_469901_3x4.jpg?width=400\n",
      "https://image.uniqlo.com/UQ/ST3/WesternCommon/imagesgoods/450179/item/goods_56_450179_3x4.jpg?width=400\n",
      "https://image.uniqlo.com/UQ/ST3/us/imagesgoods/470081/item/usgoods_56_470081_3x4.jpg?width=400\n",
      "https://image.uniqlo.com/UQ/ST3/us/imagesgoods/470077/item/usgoods_34_470077_3x4.jpg?width=400\n",
      "https://image.uniqlo.com/UQ/ST3/us/imagesgoods/472530/item/usgoods_57_472530_3x4.jpg?width=400\n",
      "https://image.uniqlo.com/UQ/ST3/WesternCommon/imagesgoods/472014/sub/goods_472014_sub14_3x4.jpg?width=600\n",
      "https://image.uniqlo.com/UQ/ST3/WesternCommon/imagesgoods/460939/sub/goods_460939_sub14_3x4.jpg?width=400\n",
      "https://image.uniqlo.com/UQ/ST3/WesternCommon/imagesgoods/469966/sub/goods_469966_sub14_3x4.jpg?width=400\n",
      "https://image.uniqlo.com/UQ/ST3/us/imagesgoods/450540/item/usgoods_07_450540_3x4.jpg?width=400\n",
      "https://image.uniqlo.com/UQ/ST3/us/imagesgoods/471229/item/usgoods_07_471229_3x4.jpg?width=400\n",
      "https://image.uniqlo.com/UQ/ST3/WesternCommon/imagesgoods/472092/sub/goods_472092_sub14_3x4.jpg?width=400\n",
      "https://image.uniqlo.com/UQ/ST3/WesternCommon/imagesgoods/475075/sub/goods_475075_sub14_3x4.jpg?width=400\n",
      "https://image.uniqlo.com/UQ/ST3/WesternCommon/imagesgoods/469407/sub/goods_469407_sub14_3x4.jpg?width=400\n",
      "https://image.uniqlo.com/UQ/ST3/WesternCommon/imagesgoods/472562/sub/goods_472562_sub14_3x4.jpg?width=400\n",
      "https://image.uniqlo.com/UQ/ST3/WesternCommon/imagesgoods/450535/sub/goods_450535_sub14_3x4.jpg?width=400\n",
      "https://image.uniqlo.com/UQ/ST3/WesternCommon/imagesgoods/450540/sub/goods_450540_sub13_3x4.jpg?width=400\n",
      "https://image.uniqlo.com/UQ/ST3/us/imagesgoods/460939/item/usgoods_07_460939_3x4.jpg?width=400\n",
      "https://image.uniqlo.com/UQ/ST3/WesternCommon/imagesgoods/476659/sub/goods_476659_sub14_3x4.jpg?width=400\n",
      "https://image.uniqlo.com/UQ/ST3/us/imagesgoods/470116/item/usgoods_09_470116_3x4.jpg?width=400\n",
      "https://image.uniqlo.com/UQ/ST3/us/imagesgoods/472776/item/usgoods_09_472776_3x4.jpg?width=400\n",
      "https://image.uniqlo.com/UQ/ST3/WesternCommon/imagesgoods/461776/item/goods_09_461776_3x4.jpg?width=400\n",
      "https://image.uniqlo.com/UQ/ST3/us/imagesgoods/442063/item/usgoods_09_442063_3x4.jpg?width=400\n",
      "https://image.uniqlo.com/UQ/ST3/WesternCommon/imagesgoods/467769/item/goods_09_467769_3x4.jpg?width=400\n",
      "https://image.uniqlo.com/UQ/ST3/us/imagesgoods/471632/item/usgoods_09_471632_3x4.jpg?width=400\n",
      "https://image.uniqlo.com/UQ/ST3/us/imagesgoods/476351/item/usgoods_09_476351_3x4.jpg?width=400\n",
      "https://image.uniqlo.com/UQ/ST3/us/imagesgoods/461001/sub/usgoods_461001_sub14_3x4.jpg?width=400\n",
      "https://image.uniqlo.com/UQ/ST3/us/imagesgoods/469862/item/usgoods_09_469862_3x4.jpg?width=400\n",
      "https://image.uniqlo.com/UQ/ST3/us/imagesgoods/460939/item/usgoods_09_460939_3x4.jpg?width=400\n",
      "https://image.uniqlo.com/UQ/ST3/WesternCommon/imagesgoods/470067/sub/goods_470067_sub14_3x4.jpg?width=400\n",
      "https://image.uniqlo.com/UQ/ST3/WesternCommon/imagesgoods/459621/sub/goods_459621_sub14_3x4.jpg?width=400\n",
      "https://image.uniqlo.com/UQ/ST3/WesternCommon/imagesgoods/472584/sub/goods_472584_sub14_3x4.jpg?width=400\n",
      "https://image.uniqlo.com/UQ/ST3/WesternCommon/imagesgoods/472294/sub/goods_472294_sub14_3x4.jpg?width=400\n",
      "https://image.uniqlo.com/UQ/ST3/us/imagesgoods/472294/item/usgoods_09_472294_3x4.jpg?width=400\n",
      "https://image.uniqlo.com/UQ/ST3/us/imagesgoods/475462/sub/usgoods_475462_sub9_3x4.jpg?width=400\n",
      "https://image.uniqlo.com/UQ/ST3/WesternCommon/imagesgoods/466366/sub/goods_466366_sub14_3x4.jpg?width=400\n",
      "https://image.uniqlo.com/UQ/ST3/us/imagesgoods/475462/sub/usgoods_475462_sub7_3x4.jpg?width=400\n",
      "https://image.uniqlo.com/UQ/ST3/WesternCommon/imagesgoods/472902/sub/goods_472902_sub14_3x4.jpg?width=400\n",
      "https://image.uniqlo.com/UQ/ST3/WesternCommon/imagesgoods/466337/sub/goods_466337_sub14_3x4.jpg?width=600\n",
      "https://image.uniqlo.com/UQ/ST3/us/imagesgoods/472092/item/usgoods_30_472092_3x4.jpg?width=400\n",
      "https://image.uniqlo.com/UQ/ST3/us/imagesgoods/450535/item/usgoods_18_450535_3x4.jpg?width=400\n",
      "https://image.uniqlo.com/UQ/ST3/us/imagesgoods/469411/item/usgoods_10_469411_3x4.jpg?width=400\n",
      "https://image.uniqlo.com/UQ/ST3/us/imagesgoods/450540/sub/usgoods_450540_sub7_3x4.jpg?width=400\n",
      "https://image.uniqlo.com/UQ/ST3/us/imagesgoods/460939/item/usgoods_69_460939_3x4.jpg?width=400\n",
      "https://image.uniqlo.com/UQ/ST3/us/imagesgoods/422992/item/usgoods_17_422992_3x4.jpg?width=400\n",
      "https://image.uniqlo.com/UQ/ST3/us/imagesgoods/465187/item/usgoods_03_465187_3x4.jpg?width=400\n",
      "https://image.uniqlo.com/UQ/ST3/us/imagesgoods/424873/sub/usgoods_424873_sub7_3x4.jpg?width=400\n",
      "https://image.uniqlo.com/UQ/ST3/WesternCommon/imagesgoods/450179/sub/goods_450179_sub14_3x4.jpg?width=400\n",
      "https://image.uniqlo.com/UQ/ST3/WesternCommon/imagesgoods/469259/sub/goods_469259_sub14_3x4.jpg?width=400\n",
      "https://image.uniqlo.com/UQ/ST3/WesternCommon/imagesgoods/424873/sub/goods_424873_sub14_3x4.jpg?width=400\n",
      "https://image.uniqlo.com/UQ/ST3/us/imagesgoods/422992/item/usgoods_30_422992_3x4.jpg?width=400\n",
      "https://image.uniqlo.com/UQ/ST3/WesternCommon/imagesgoods/471375/sub/goods_471375_sub14_3x4.jpg?width=600\n",
      "https://image.uniqlo.com/UQ/ST3/us/imagesgoods/471375/item/usgoods_11_471375_3x4.jpg?width=400\n",
      "https://image.uniqlo.com/UQ/ST3/us/imagesgoods/469870/item/usgoods_60_469870_3x4.jpg?width=400\n",
      "https://image.uniqlo.com/UQ/ST3/WesternCommon/imagesgoods/466366/sub/goods_466366_sub11_3x4.jpg?width=400\n",
      "https://image.uniqlo.com/UQ/ST3/us/imagesgoods/470734/item/usgoods_67_470734_3x4.jpg?width=400\n",
      "https://image.uniqlo.com/UQ/ST3/WesternCommon/imagesgoods/467606/sub/goods_467606_sub14_3x4.jpg?width=400\n",
      "https://image.uniqlo.com/UQ/ST3/us/imagesgoods/470922/item/usgoods_51_470922_3x4.jpg?width=400\n",
      "https://image.uniqlo.com/UQ/ST3/us/imagesgoods/465755/item/usgoods_17_465755_3x4.jpg?width=400\n",
      "https://image.uniqlo.com/UQ/ST3/us/imagesgoods/465191/item/usgoods_64_465191_3x4.jpg?width=400\n",
      "https://image.uniqlo.com/UQ/ST3/us/imagesgoods/461001/item/usgoods_00_461001_3x4.jpg?width=400\n",
      "https://image.uniqlo.com/UQ/ST3/WesternCommon/imagesgoods/455365/item/goods_18_455365_3x4.jpg?width=400\n",
      "https://image.uniqlo.com/UQ/ST3/WesternCommon/imagesgoods/467544/sub/goods_467544_sub14_3x4.jpg?width=400\n",
      "https://image.uniqlo.com/UQ/ST3/us/imagesgoods/464918/item/usgoods_38_464918_3x4.jpg?width=400\n",
      "https://image.uniqlo.com/UQ/ST3/WesternCommon/imagesgoods/469869/sub/goods_469869_sub11_3x4.jpg?width=400\n",
      "https://image.uniqlo.com/UQ/ST3/WesternCommon/imagesgoods/473352/sub/goods_473352_sub14_3x4.jpg?width=400\n",
      "https://image.uniqlo.com/UQ/ST3/us/imagesgoods/469411/item/usgoods_55_469411_3x4.jpg?width=400\n",
      "https://image.uniqlo.com/UQ/ST3/WesternCommon/imagesgoods/469407/item/goods_66_469407_3x4.jpg?width=400\n",
      "https://image.uniqlo.com/UQ/ST3/us/imagesgoods/466026/item/usgoods_10_466026_3x4.jpg?width=400\n",
      "https://image.uniqlo.com/UQ/ST3/us/imagesgoods/469422/item/usgoods_01_469422_3x4.jpg?width=400\n",
      "https://image.uniqlo.com/UQ/ST3/us/imagesgoods/469421/item/usgoods_00_469421_3x4.jpg?width=400\n",
      "https://image.uniqlo.com/UQ/ST3/WesternCommon/imagesgoods/472464/sub/goods_472464_sub14_3x4.jpg?width=600\n",
      "https://image.uniqlo.com/UQ/ST3/WesternCommon/imagesgoods/464427/sub/goods_464427_sub14_3x4.jpg?width=400\n",
      "https://image.uniqlo.com/UQ/ST3/WesternCommon/imagesgoods/465189/sub/goods_465189_sub14_3x4.jpg?width=400\n",
      "https://image.uniqlo.com/UQ/ST3/WesternCommon/imagesgoods/469631/item/goods_50_469631_3x4.jpg?width=600\n",
      "https://image.uniqlo.com/UQ/ST3/WesternCommon/imagesgoods/450529/sub/goods_450529_sub14_3x4.jpg?width=400\n",
      "https://image.uniqlo.com/UQ/ST3/WesternCommon/imagesgoods/465762/sub/goods_465762_sub14_3x4.jpg?width=400\n",
      "https://image.uniqlo.com/UQ/ST3/us/imagesgoods/449753/sub/usgoods_449753_sub7_3x4.jpg?width=400\n",
      "https://image.uniqlo.com/UQ/ST3/WesternCommon/imagesgoods/469864/sub/goods_469864_sub11_3x4.jpg?width=400\n",
      "https://image.uniqlo.com/UQ/ST3/us/imagesgoods/467039/item/usgoods_00_467039_3x4.jpg?width=400\n",
      "https://image.uniqlo.com/UQ/ST3/WesternCommon/imagesgoods/471031/item/goods_01_471031_3x4.jpg?width=400\n",
      "https://image.uniqlo.com/UQ/ST3/WesternCommon/imagesgoods/455388/item/goods_42_455388_3x4.jpg?width=400\n",
      "https://image.uniqlo.com/UQ/ST3/WesternCommon/imagesgoods/470641/sub/goods_470641_sub14_3x4.jpg?width=400\n",
      "https://image.uniqlo.com/UQ/ST3/WesternCommon/imagesgoods/466895/sub/goods_466895_sub14_3x4.jpg?width=400\n"
     ]
    }
   ],
   "source": [
    "uniqlo_df = pd.read_csv(\"/home/jupyter/repos/marqo-FashionCLIP/curated_datasets/uniqlo5k/uniqlo_processed.csv\")\n",
    "uniqlo_dict = uniqlo_df.to_dict('records')\n",
    "searcher = {}\n",
    "for item in uniqlo_dict:\n",
    "    searcher[item['img_url']] = item\n",
    "\n",
    "## taking only the useful columns: img_urls\n",
    "subs = [\"img_url\"]\n",
    "cols = [\"metrics\"]+[f\"input_{x}\" for x in subs]+[f\"result_{i}_{x}\" for i in range(1,25) for x in subs]\n",
    "short_df = df[cols]\n",
    "\n",
    "## creating retrieval images set\n",
    "retrieval_db = {}\n",
    "for item in df.values:\n",
    "    for it in range(1,151,6):\n",
    "        if isinstance(item[it+5], str) and item[it+5] not in retrieval_db:\n",
    "            print(item[it+5])\n",
    "            retrieval_db[item[it+5]] = {\n",
    "                \"id\": item[it],\n",
    "                \"item_url\": item[it+1],\n",
    "                \"item_type\": item[it+2],\n",
    "                \"item_name\": item[it+3],\n",
    "                \"materials\": item[it+4],\n",
    "                \"img_url\": item[it+5]\n",
    "            }"
   ]
  },
  {
   "cell_type": "code",
   "execution_count": 105,
   "metadata": {},
   "outputs": [
    {
     "data": {
      "text/html": [
       "<div>\n",
       "<style scoped>\n",
       "    .dataframe tbody tr th:only-of-type {\n",
       "        vertical-align: middle;\n",
       "    }\n",
       "\n",
       "    .dataframe tbody tr th {\n",
       "        vertical-align: top;\n",
       "    }\n",
       "\n",
       "    .dataframe thead th {\n",
       "        text-align: right;\n",
       "    }\n",
       "</style>\n",
       "<table border=\"1\" class=\"dataframe\">\n",
       "  <thead>\n",
       "    <tr style=\"text-align: right;\">\n",
       "      <th></th>\n",
       "      <th>id</th>\n",
       "      <th>item_url</th>\n",
       "      <th>item_type</th>\n",
       "      <th>item_name</th>\n",
       "      <th>materials</th>\n",
       "      <th>img_url</th>\n",
       "      <th>item_ID</th>\n",
       "    </tr>\n",
       "  </thead>\n",
       "  <tbody>\n",
       "    <tr>\n",
       "      <th>0</th>\n",
       "      <td>469870.0</td>\n",
       "      <td>https://www.uniqlo.com/us/en/products/E469870-...</td>\n",
       "      <td>WOMEN/outerwear-and-blazers/ultra-light-down</td>\n",
       "      <td>Ultra Light Down Vest</td>\n",
       "      <td>Face: 100% Nylon/ Filling: Down ( Minimum 90% ...</td>\n",
       "      <td>https://image.uniqlo.com/UQ/ST3/WesternCommon/...</td>\n",
       "      <td>0</td>\n",
       "    </tr>\n",
       "    <tr>\n",
       "      <th>1</th>\n",
       "      <td>469862.0</td>\n",
       "      <td>https://www.uniqlo.com/us/en/products/E469862-...</td>\n",
       "      <td>WOMEN/outerwear-and-blazers/ultra-light-down</td>\n",
       "      <td>PUFFTECH Compact Jacket</td>\n",
       "      <td>Face: 100% Nylon/ Filling: 100% Polyester/ Bac...</td>\n",
       "      <td>https://image.uniqlo.com/UQ/ST3/WesternCommon/...</td>\n",
       "      <td>1</td>\n",
       "    </tr>\n",
       "    <tr>\n",
       "      <th>2</th>\n",
       "      <td>470142.0</td>\n",
       "      <td>https://www.uniqlo.com/us/en/products/E442063-...</td>\n",
       "      <td>WOMEN/tops/t-shirts</td>\n",
       "      <td>HEATTECH Fleece T-Shirt | Turtleneck</td>\n",
       "      <td>70% Acrylic, 30% Rayon</td>\n",
       "      <td>https://image.uniqlo.com/UQ/ST3/us/imagesgoods...</td>\n",
       "      <td>2</td>\n",
       "    </tr>\n",
       "    <tr>\n",
       "      <th>3</th>\n",
       "      <td>469907.0</td>\n",
       "      <td>https://www.uniqlo.com/us/en/products/E469907-...</td>\n",
       "      <td>WOMEN/outerwear-and-blazers/coats</td>\n",
       "      <td>Single Collar Tweed Coat</td>\n",
       "      <td>Shell: 50% Wool, 50% Polyester/ Lining: 100% P...</td>\n",
       "      <td>https://image.uniqlo.com/UQ/ST3/WesternCommon/...</td>\n",
       "      <td>3</td>\n",
       "    </tr>\n",
       "    <tr>\n",
       "      <th>4</th>\n",
       "      <td>469863.0</td>\n",
       "      <td>https://www.uniqlo.com/us/en/products/E469863-...</td>\n",
       "      <td>WOMEN/outerwear-and-blazers/ultra-light-down</td>\n",
       "      <td>PUFFTECH Compact Vest</td>\n",
       "      <td>Face: 100% Nylon/ Filling: 100% Polyester/ Bac...</td>\n",
       "      <td>https://image.uniqlo.com/UQ/ST3/WesternCommon/...</td>\n",
       "      <td>4</td>\n",
       "    </tr>\n",
       "    <tr>\n",
       "      <th>...</th>\n",
       "      <td>...</td>\n",
       "      <td>...</td>\n",
       "      <td>...</td>\n",
       "      <td>...</td>\n",
       "      <td>...</td>\n",
       "      <td>...</td>\n",
       "      <td>...</td>\n",
       "    </tr>\n",
       "    <tr>\n",
       "      <th>101</th>\n",
       "      <td>467039.0</td>\n",
       "      <td>https://www.uniqlo.com/us/en/products/E467039-...</td>\n",
       "      <td>MEN/shirts-and-polos/casual-shirts</td>\n",
       "      <td>AIRism Cotton Full Open Polo Shirt</td>\n",
       "      <td>73% Cotton, 27% Polyester ( 27% Uses Recycled ...</td>\n",
       "      <td>https://image.uniqlo.com/UQ/ST3/us/imagesgoods...</td>\n",
       "      <td>101</td>\n",
       "    </tr>\n",
       "    <tr>\n",
       "      <th>102</th>\n",
       "      <td>471031.0</td>\n",
       "      <td>https://www.uniqlo.com/us/en/products/E471031-...</td>\n",
       "      <td>MEN/shirts-and-polos/polo-shirts</td>\n",
       "      <td>DRY-EX Polo Shirt | Kei Nishikori</td>\n",
       "      <td>Body: 100% Polyester ( 50% Uses Recycled Polye...</td>\n",
       "      <td>https://image.uniqlo.com/UQ/ST3/WesternCommon/...</td>\n",
       "      <td>102</td>\n",
       "    </tr>\n",
       "    <tr>\n",
       "      <th>103</th>\n",
       "      <td>465194.0</td>\n",
       "      <td>https://www.uniqlo.com/us/en/products/E455388-...</td>\n",
       "      <td>MEN/shirts-and-polos/polo-shirts</td>\n",
       "      <td>DRY Pique Polo Shirt</td>\n",
       "      <td>Body: 72% Cotton, 28% Polyester ( 28% Uses Rec...</td>\n",
       "      <td>https://image.uniqlo.com/UQ/ST3/WesternCommon/...</td>\n",
       "      <td>103</td>\n",
       "    </tr>\n",
       "    <tr>\n",
       "      <th>104</th>\n",
       "      <td>470641.0</td>\n",
       "      <td>https://www.uniqlo.com/us/en/products/E470641-...</td>\n",
       "      <td>MEN/tops/t-shirts</td>\n",
       "      <td>Soft Knitted Fleece T-Shirt</td>\n",
       "      <td>95% Polyester, 5% Spandex ( 26% Uses Recycled ...</td>\n",
       "      <td>https://image.uniqlo.com/UQ/ST3/WesternCommon/...</td>\n",
       "      <td>104</td>\n",
       "    </tr>\n",
       "    <tr>\n",
       "      <th>105</th>\n",
       "      <td>466895.0</td>\n",
       "      <td>https://www.uniqlo.com/us/en/products/E466895-...</td>\n",
       "      <td>UNISEX/tops/t-shirts</td>\n",
       "      <td>AIRism Cotton Oversized T-Shirt | Half-Sleeve</td>\n",
       "      <td>53% Cotton, 47% Polyester ( 30% Uses Recycled ...</td>\n",
       "      <td>https://image.uniqlo.com/UQ/ST3/WesternCommon/...</td>\n",
       "      <td>105</td>\n",
       "    </tr>\n",
       "  </tbody>\n",
       "</table>\n",
       "<p>106 rows × 7 columns</p>\n",
       "</div>"
      ],
      "text/plain": [
       "           id                                           item_url  \\\n",
       "0    469870.0  https://www.uniqlo.com/us/en/products/E469870-...   \n",
       "1    469862.0  https://www.uniqlo.com/us/en/products/E469862-...   \n",
       "2    470142.0  https://www.uniqlo.com/us/en/products/E442063-...   \n",
       "3    469907.0  https://www.uniqlo.com/us/en/products/E469907-...   \n",
       "4    469863.0  https://www.uniqlo.com/us/en/products/E469863-...   \n",
       "..        ...                                                ...   \n",
       "101  467039.0  https://www.uniqlo.com/us/en/products/E467039-...   \n",
       "102  471031.0  https://www.uniqlo.com/us/en/products/E471031-...   \n",
       "103  465194.0  https://www.uniqlo.com/us/en/products/E455388-...   \n",
       "104  470641.0  https://www.uniqlo.com/us/en/products/E470641-...   \n",
       "105  466895.0  https://www.uniqlo.com/us/en/products/E466895-...   \n",
       "\n",
       "                                        item_type  \\\n",
       "0    WOMEN/outerwear-and-blazers/ultra-light-down   \n",
       "1    WOMEN/outerwear-and-blazers/ultra-light-down   \n",
       "2                             WOMEN/tops/t-shirts   \n",
       "3               WOMEN/outerwear-and-blazers/coats   \n",
       "4    WOMEN/outerwear-and-blazers/ultra-light-down   \n",
       "..                                            ...   \n",
       "101            MEN/shirts-and-polos/casual-shirts   \n",
       "102              MEN/shirts-and-polos/polo-shirts   \n",
       "103              MEN/shirts-and-polos/polo-shirts   \n",
       "104                             MEN/tops/t-shirts   \n",
       "105                          UNISEX/tops/t-shirts   \n",
       "\n",
       "                                         item_name  \\\n",
       "0                            Ultra Light Down Vest   \n",
       "1                          PUFFTECH Compact Jacket   \n",
       "2             HEATTECH Fleece T-Shirt | Turtleneck   \n",
       "3                         Single Collar Tweed Coat   \n",
       "4                            PUFFTECH Compact Vest   \n",
       "..                                             ...   \n",
       "101             AIRism Cotton Full Open Polo Shirt   \n",
       "102              DRY-EX Polo Shirt | Kei Nishikori   \n",
       "103                           DRY Pique Polo Shirt   \n",
       "104                    Soft Knitted Fleece T-Shirt   \n",
       "105  AIRism Cotton Oversized T-Shirt | Half-Sleeve   \n",
       "\n",
       "                                             materials  \\\n",
       "0    Face: 100% Nylon/ Filling: Down ( Minimum 90% ...   \n",
       "1    Face: 100% Nylon/ Filling: 100% Polyester/ Bac...   \n",
       "2                               70% Acrylic, 30% Rayon   \n",
       "3    Shell: 50% Wool, 50% Polyester/ Lining: 100% P...   \n",
       "4    Face: 100% Nylon/ Filling: 100% Polyester/ Bac...   \n",
       "..                                                 ...   \n",
       "101  73% Cotton, 27% Polyester ( 27% Uses Recycled ...   \n",
       "102  Body: 100% Polyester ( 50% Uses Recycled Polye...   \n",
       "103  Body: 72% Cotton, 28% Polyester ( 28% Uses Rec...   \n",
       "104  95% Polyester, 5% Spandex ( 26% Uses Recycled ...   \n",
       "105  53% Cotton, 47% Polyester ( 30% Uses Recycled ...   \n",
       "\n",
       "                                               img_url  item_ID  \n",
       "0    https://image.uniqlo.com/UQ/ST3/WesternCommon/...        0  \n",
       "1    https://image.uniqlo.com/UQ/ST3/WesternCommon/...        1  \n",
       "2    https://image.uniqlo.com/UQ/ST3/us/imagesgoods...        2  \n",
       "3    https://image.uniqlo.com/UQ/ST3/WesternCommon/...        3  \n",
       "4    https://image.uniqlo.com/UQ/ST3/WesternCommon/...        4  \n",
       "..                                                 ...      ...  \n",
       "101  https://image.uniqlo.com/UQ/ST3/us/imagesgoods...      101  \n",
       "102  https://image.uniqlo.com/UQ/ST3/WesternCommon/...      102  \n",
       "103  https://image.uniqlo.com/UQ/ST3/WesternCommon/...      103  \n",
       "104  https://image.uniqlo.com/UQ/ST3/WesternCommon/...      104  \n",
       "105  https://image.uniqlo.com/UQ/ST3/WesternCommon/...      105  \n",
       "\n",
       "[106 rows x 7 columns]"
      ]
     },
     "execution_count": 105,
     "metadata": {},
     "output_type": "execute_result"
    }
   ],
   "source": [
    "retrieval_df = pd.DataFrame(retrieval_db.values())\n",
    "retrieval_df['item_ID'] = list(range(len(retrieval_df)))\n",
    "retrieval_df"
   ]
  },
  {
   "cell_type": "code",
   "execution_count": 108,
   "metadata": {},
   "outputs": [],
   "source": [
    "retrieval_df[\"image\"] = retrieval_df[\"img_url\"].apply(lambda x: Image.open(requests.get(x, stream=True).raw))\n",
    "# Convert PIL images to bytes\n",
    "def pil_to_bytes(img):\n",
    "    buffer = io.BytesIO()\n",
    "    img.save(buffer, format=\"PNG\")\n",
    "    return buffer.getvalue()\n",
    "\n",
    "retrieval_df[\"image\"] = retrieval_df[\"image\"].apply(pil_to_bytes)"
   ]
  },
  {
   "cell_type": "code",
   "execution_count": 113,
   "metadata": {},
   "outputs": [],
   "source": [
    "\n",
    "# Step 2: Define the Hugging Face Dataset schema\n",
    "features = Features({\n",
    "    \"id\": Value(\"float64\"),\n",
    "    \"item_url\": Value(\"string\"),\n",
    "    \"item_type\": Value(\"string\"),\n",
    "    \"item_name\": Value(\"string\"),\n",
    "    \"materials\": Value(\"string\"),\n",
    "    \"img_url\": Value(\"string\"),\n",
    "    \"item_ID\": Value(\"int64\"),\n",
    "    \"image\": Image(),  # This automatically handles the binary image format\n",
    "})\n",
    "\n",
    "# Step 3: Convert to Hugging Face Dataset\n",
    "hf_dataset = Dataset.from_pandas(retrieval_df, features=features)"
   ]
  },
  {
   "cell_type": "code",
   "execution_count": 128,
   "metadata": {},
   "outputs": [
    {
     "data": {
      "text/plain": [
       "{'id': 469870.0,\n",
       " 'item_url': 'https://www.uniqlo.com/us/en/products/E469870-000/00',\n",
       " 'item_type': 'WOMEN/outerwear-and-blazers/ultra-light-down',\n",
       " 'item_name': 'Ultra Light Down Vest',\n",
       " 'materials': 'Face: 100% Nylon/ Filling: Down ( Minimum 90% Down )/ Back: 100% Nylon',\n",
       " 'img_url': 'https://image.uniqlo.com/UQ/ST3/WesternCommon/imagesgoods/469870/sub/goods_469870_sub14_3x4.jpg?width=400',\n",
       " 'item_ID': 0,\n",
       " 'image': <PIL.PngImagePlugin.PngImageFile image mode=RGB size=400x533>}"
      ]
     },
     "execution_count": 128,
     "metadata": {},
     "output_type": "execute_result"
    }
   ],
   "source": [
    "hf_dataset[0]"
   ]
  },
  {
   "cell_type": "code",
   "execution_count": 129,
   "metadata": {},
   "outputs": [
    {
     "data": {
      "application/vnd.jupyter.widget-view+json": {
       "model_id": "b3e8dafc9c7d4a679ec1c7372ff3bdf1",
       "version_major": 2,
       "version_minor": 0
      },
      "text/plain": [
       "Map:   0%|          | 0/106 [00:00<?, ? examples/s]"
      ]
     },
     "metadata": {},
     "output_type": "display_data"
    },
    {
     "data": {
      "application/vnd.jupyter.widget-view+json": {
       "model_id": "bb344fb275db4883b58bbf6d9308cdbe",
       "version_major": 2,
       "version_minor": 0
      },
      "text/plain": [
       "Pushing dataset shards to the dataset hub:   0%|          | 0/1 [00:00<?, ?it/s]"
      ]
     },
     "metadata": {},
     "output_type": "display_data"
    },
    {
     "data": {
      "application/vnd.jupyter.widget-view+json": {
       "model_id": "cff685814926452383dcc22584008734",
       "version_major": 2,
       "version_minor": 0
      },
      "text/plain": [
       "Creating parquet from Arrow format:   0%|          | 0/2 [00:00<?, ?ba/s]"
      ]
     },
     "metadata": {},
     "output_type": "display_data"
    },
    {
     "name": "stderr",
     "output_type": "stream",
     "text": [
      "Updating downloaded metadata with the new split.\n"
     ]
    }
   ],
   "source": [
    "# push to HF hub\n",
    "hf_dataset.push_to_hub(\"AbhishekSureddy/uniqlo_curated_100\", private=True,split=\"data\")"
   ]
  },
  {
   "cell_type": "code",
   "execution_count": 131,
   "metadata": {},
   "outputs": [
    {
     "name": "stderr",
     "output_type": "stream",
     "text": [
      "Found cached dataset parquet (/home/abhisheksureddy/.cache/huggingface/datasets/AbhishekSureddy___parquet/AbhishekSureddy--uniqlo_curated_100-72efc4f3c56b5e50/0.0.0/14a00e99c0d15a23649d0db8944380ac81082d4b021f398733dd84f3a6c569a7)\n"
     ]
    },
    {
     "data": {
      "application/vnd.jupyter.widget-view+json": {
       "model_id": "4ec37099de934334a46e11572bcdf6cc",
       "version_major": 2,
       "version_minor": 0
      },
      "text/plain": [
       "  0%|          | 0/2 [00:00<?, ?it/s]"
      ]
     },
     "metadata": {},
     "output_type": "display_data"
    }
   ],
   "source": [
    "# loading from HF hub\n",
    "from datasets import load_dataset\n",
    "dataset = load_dataset(\"AbhishekSureddy/uniqlo_curated_100\", use_auth_token=True)"
   ]
  },
  {
   "cell_type": "code",
   "execution_count": 134,
   "metadata": {},
   "outputs": [
    {
     "data": {
      "text/plain": [
       "Dataset({\n",
       "    features: ['id', 'item_url', 'item_type', 'item_name', 'materials', 'img_url', 'item_ID', 'image'],\n",
       "    num_rows: 106\n",
       "})"
      ]
     },
     "execution_count": 134,
     "metadata": {},
     "output_type": "execute_result"
    }
   ],
   "source": [
    "dataset['data']"
   ]
  },
  {
   "cell_type": "code",
   "execution_count": null,
   "metadata": {},
   "outputs": [],
   "source": []
  }
 ],
 "metadata": {
  "kernelspec": {
   "display_name": "base",
   "language": "python",
   "name": "python3"
  },
  "language_info": {
   "codemirror_mode": {
    "name": "ipython",
    "version": 3
   },
   "file_extension": ".py",
   "mimetype": "text/x-python",
   "name": "python",
   "nbconvert_exporter": "python",
   "pygments_lexer": "ipython3",
   "version": "3.7.12"
  }
 },
 "nbformat": 4,
 "nbformat_minor": 2
}
